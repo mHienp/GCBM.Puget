{
 "cells": [
  {
   "cell_type": "code",
   "execution_count": 1,
   "id": "bd4fa8f1",
   "metadata": {},
   "outputs": [],
   "source": [
    "# data mainpulation \n",
    "import numpy as np\n",
    "import pandas as pd\n",
    "\n",
    "# plots and graphs\n",
    "import matplotlib.pyplot as plt\n",
    "\n",
    "# function fit\n",
    "from scipy.optimize import curve_fit\n",
    "\n",
    "# disable warnings\n",
    "import warnings\n",
    "warnings.filterwarnings('ignore')\n",
    "\n",
    "# save output\n",
    "import os\n",
    "import csv"
   ]
  },
  {
   "cell_type": "markdown",
   "id": "5fdc5a84",
   "metadata": {},
   "source": [
    "#### Chapman-Richards Growth Function"
   ]
  },
  {
   "cell_type": "code",
   "execution_count": 2,
   "id": "b35d1770",
   "metadata": {},
   "outputs": [],
   "source": [
    "def growth_curve(age, A, k, p):\n",
    "    return A * (1 - np.exp(-k * age))**p"
   ]
  },
  {
   "cell_type": "markdown",
   "id": "0d4e2eb9",
   "metadata": {},
   "source": [
    "#### Western Redcedar"
   ]
  },
  {
   "cell_type": "code",
   "execution_count": 3,
   "id": "b8082861",
   "metadata": {},
   "outputs": [],
   "source": [
    "# age\n",
    "x_data_wrc = np.array([3.2725527831094, 10.1823416506717, 20.0287907869481, 29.7024952015355, 40.9309021113243, 51.1228406909788, 60.9692898272552, 69.2610364683301, 81.6986564299424, 91.0268714011516, 93.0998080614203])\n",
    "# AGB\n",
    "y_data_wrc = np.array([0.295634424942883, 0.295634424942883, 0.295634424942883, 21.5687204068738, 63.0064044975374, 101.545223581636, 140.952793933893, 172.685649384557, 216.862595121045, 247.898954297313, 254.885649014824])"
   ]
  },
  {
   "cell_type": "code",
   "execution_count": 4,
   "id": "a486c99d",
   "metadata": {},
   "outputs": [
    {
     "data": {
      "text/plain": [
       "array([3.60323746e+02, 2.84960941e-02, 4.84109901e+00])"
      ]
     },
     "execution_count": 4,
     "metadata": {},
     "output_type": "execute_result"
    }
   ],
   "source": [
    "params_wrc, _ = curve_fit(growth_curve, x_data_wrc, y_data_wrc, [360.632855720095, 0.0284468067037396, 4.83046101554209])\n",
    "params_wrc"
   ]
  },
  {
   "cell_type": "code",
   "execution_count": 5,
   "id": "2f4215c7",
   "metadata": {},
   "outputs": [
    {
     "data": {
      "image/png": "[encoded data removed]",
      "text/plain": [
       "<Figure size 432x288 with 1 Axes>"
      ]
     },
     "metadata": {
      "needs_background": "light"
     },
     "output_type": "display_data"
    }
   ],
   "source": [
    "plt.scatter(x_data_wrc, y_data_wrc, label='data', marker='x', c='r')\n",
    "x = np.linspace(1, 210, 210)\n",
    "plt.plot(x, growth_curve(x, *params_wrc), 'b-', label='growth curve')\n",
    "\n",
    "plt.title('WESTERN REDCEDAR GROWTH CURVE')\n",
    "plt.xlabel('Age (years)')\n",
    "plt.ylabel('AGB (Mg ha-1)')\n",
    "plt.legend()\n",
    "plt.show()"
   ]
  },
  {
   "cell_type": "markdown",
   "id": "110bbd63",
   "metadata": {},
   "source": [
    "#### Yield table"
   ]
  },
  {
   "cell_type": "code",
   "execution_count": 6,
   "id": "80542f8b",
   "metadata": {},
   "outputs": [],
   "source": [
    "agb_values = [growth_curve(age, *params_wrc) for age in range(201)]\n",
    "header     = ['LifeZone', 'AIDBSPP'] + list(range(201))\n",
    "#'Boreal moist forest', 'Cool temperate steppe', 'Polar desert','Polar rain tundra','Polar wet tundra'\n",
    "life_zones = ['Boreal rain forest','Boreal wet forest',\n",
    "             'Cool temperate moist forest','Cool temperate rain forest','Cool temperate wet forest',\n",
    "             'Warm temperate moist forest','Unspecified']\n",
    "species    = 'Western redcedar'"
   ]
  },
  {
   "cell_type": "code",
   "execution_count": 7,
   "id": "b270e67a",
   "metadata": {},
   "outputs": [],
   "source": [
    "if not os.path.exists('output'):\n",
    "    os.makedirs('output')\n",
    "\n",
    "with open(os.path.join('output', 'Growth_Curves_wrc.csv'), 'w') as gc_file:\n",
    "    gc_writer = csv.writer(gc_file, delimiter=',', quotechar='\"', quoting=csv.QUOTE_MINIMAL)\n",
    "    \n",
    "    gc_writer.writerow(header)\n",
    "    for life_zone in life_zones:\n",
    "        gc_writer.writerow([life_zone] + [species] + agb_values)"
   ]
  },
  {
   "cell_type": "code",
   "execution_count": 8,
   "id": "a8a5d763",
   "metadata": {},
   "outputs": [
    {
     "name": "stdout",
     "output_type": "stream",
     "text": [
      "                      LifeZone           AIDBSPP    0         1         2  \\\n",
      "0           Boreal rain forest  Western redcedar  0.0  0.000011  0.000298   \n",
      "1            Boreal wet forest  Western redcedar  0.0  0.000011  0.000298   \n",
      "2  Cool temperate moist forest  Western redcedar  0.0  0.000011  0.000298   \n",
      "3   Cool temperate rain forest  Western redcedar  0.0  0.000011  0.000298   \n",
      "4    Cool temperate wet forest  Western redcedar  0.0  0.000011  0.000298   \n",
      "5  Warm temperate moist forest  Western redcedar  0.0  0.000011  0.000298   \n",
      "6                  Unspecified  Western redcedar  0.0  0.000011  0.000298   \n",
      "\n",
      "         3         4         5         6         7  ...         191  \\\n",
      "0  0.00198  0.007449  0.020509  0.046354  0.091443  ...  352.837414   \n",
      "1  0.00198  0.007449  0.020509  0.046354  0.091443  ...  352.837414   \n",
      "2  0.00198  0.007449  0.020509  0.046354  0.091443  ...  352.837414   \n",
      "3  0.00198  0.007449  0.020509  0.046354  0.091443  ...  352.837414   \n",
      "4  0.00198  0.007449  0.020509  0.046354  0.091443  ...  352.837414   \n",
      "5  0.00198  0.007449  0.020509  0.046354  0.091443  ...  352.837414   \n",
      "6  0.00198  0.007449  0.020509  0.046354  0.091443  ...  352.837414   \n",
      "\n",
      "          192         193         194         195         196         197  \\\n",
      "0  353.046035  353.248889  353.446132  353.637918  353.824395  354.005708   \n",
      "1  353.046035  353.248889  353.446132  353.637918  353.824395  354.005708   \n",
      "2  353.046035  353.248889  353.446132  353.637918  353.824395  354.005708   \n",
      "3  353.046035  353.248889  353.446132  353.637918  353.824395  354.005708   \n",
      "4  353.046035  353.248889  353.446132  353.637918  353.824395  354.005708   \n",
      "5  353.046035  353.248889  353.446132  353.637918  353.824395  354.005708   \n",
      "6  353.046035  353.248889  353.446132  353.637918  353.824395  354.005708   \n",
      "\n",
      "          198         199         200  \n",
      "0  354.181997  354.353401  354.520053  \n",
      "1  354.181997  354.353401  354.520053  \n",
      "2  354.181997  354.353401  354.520053  \n",
      "3  354.181997  354.353401  354.520053  \n",
      "4  354.181997  354.353401  354.520053  \n",
      "5  354.181997  354.353401  354.520053  \n",
      "6  354.181997  354.353401  354.520053  \n",
      "\n",
      "[7 rows x 203 columns]\n"
     ]
    }
   ],
   "source": [
    "data = pd.read_csv(os.path.join('output', 'Growth_Curves_wrc.csv'))\n",
    "print(data)"
   ]
  },
  {
   "cell_type": "code",
   "execution_count": null,
   "id": "3a99f0d1",
   "metadata": {},
   "outputs": [],
   "source": []
  }
 ],
 "metadata": {
  "kernelspec": {
   "display_name": "Python 3",
   "language": "python",
   "name": "python3"
  },
  "language_info": {
   "codemirror_mode": {
    "name": "ipython",
    "version": 3
   },
   "file_extension": ".py",
   "mimetype": "text/x-python",
   "name": "python",
   "nbconvert_exporter": "python",
   "pygments_lexer": "ipython3",
   "version": "3.8.8"
  }
 },
 "nbformat": 4,
 "nbformat_minor": 5
}

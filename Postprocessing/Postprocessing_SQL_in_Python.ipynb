{
  "nbformat": 4,
  "nbformat_minor": 0,
  "metadata": {
    "colab": {
      "provenance": []
    },
    "kernelspec": {
      "name": "python3",
      "display_name": "Python 3"
    },
    "language_info": {
      "name": "python"
    }
  },
  "cells": [
    {
      "cell_type": "code",
      "source": [
        "import sqlite3\n",
        "import pandas as pd"
      ],
      "metadata": {
        "id": "-XO2Kk1k-bm5"
      },
      "execution_count": 5,
      "outputs": []
    },
    {
      "cell_type": "code",
      "source": [
        "conn = sqlite3.connect(\"compiled_gcbm_output.db\")"
      ],
      "metadata": {
        "id": "S5ixYP5V_EZ3"
      },
      "execution_count": 2,
      "outputs": []
    },
    {
      "cell_type": "code",
      "source": [
        "query = f\"\"\"\n",
        "        SELECT years.year, COALESCE(SUM(i.flux_tc), 0) / 1e6 AS NPP_mt, COALESCE(SUM(j.flux_tc), 0) / 1e6 AS NEP_mt, COALESCE(SUM(k.flux_tc), 0) / 1e6 AS NBP_mt\n",
        "        FROM (SELECT DISTINCT year FROM v_age_indicators ORDER BY year) AS years\n",
        "        LEFT JOIN v_stock_change_indicators_density i\n",
        "            ON years.year = i.year\n",
        "        LEFT JOIN v_stock_change_indicators_density j\n",
        "            ON years.year = j.year\n",
        "        LEFT JOIN v_stock_change_indicators_density k\n",
        "            ON years.year = k.year\n",
        "        WHERE i.indicator = 'NPP' and j.indicator = 'NEP' and k.indicator='NBP' \n",
        "            AND (years.year BETWEEN 1900 AND 2050)\n",
        "        GROUP BY years.year\n",
        "        ORDER BY years.year\n",
        "        \"\"\""
      ],
      "metadata": {
        "id": "VVXZUl0SCiUe"
      },
      "execution_count": 89,
      "outputs": []
    },
    {
      "cell_type": "code",
      "source": [
        "df = pd.read_sql_query(query, conn)\n",
        "df.head()"
      ],
      "metadata": {
        "id": "8SBhJu1T9D4E",
        "colab": {
          "base_uri": "https://localhost:8080/",
          "height": 206
        },
        "outputId": "5c86e5ad-8121-4fdd-d4e8-d82c142d4515"
      },
      "execution_count": 90,
      "outputs": [
        {
          "output_type": "execute_result",
          "data": {
            "text/plain": [
              "   year    NPP_mt     NEP_mt     NBP_mt\n",
              "0  1900  0.131483 -13.477502 -13.477502\n",
              "1  1901  0.393907 -11.644816 -11.644816\n",
              "2  1902  0.670503 -10.221973 -10.221973\n",
              "3  1903  0.962377  -9.032994  -9.032994\n",
              "4  1904  1.265043  -7.991998  -7.991998"
            ],
            "text/html": [
              "\n",
              "  <div id=\"df-82731778-ca91-4987-a04e-e2989cc69a47\">\n",
              "    <div class=\"colab-df-container\">\n",
              "      <div>\n",
              "<style scoped>\n",
              "    .dataframe tbody tr th:only-of-type {\n",
              "        vertical-align: middle;\n",
              "    }\n",
              "\n",
              "    .dataframe tbody tr th {\n",
              "        vertical-align: top;\n",
              "    }\n",
              "\n",
              "    .dataframe thead th {\n",
              "        text-align: right;\n",
              "    }\n",
              "</style>\n",
              "<table border=\"1\" class=\"dataframe\">\n",
              "  <thead>\n",
              "    <tr style=\"text-align: right;\">\n",
              "      <th></th>\n",
              "      <th>year</th>\n",
              "      <th>NPP_mt</th>\n",
              "      <th>NEP_mt</th>\n",
              "      <th>NBP_mt</th>\n",
              "    </tr>\n",
              "  </thead>\n",
              "  <tbody>\n",
              "    <tr>\n",
              "      <th>0</th>\n",
              "      <td>1900</td>\n",
              "      <td>0.131483</td>\n",
              "      <td>-13.477502</td>\n",
              "      <td>-13.477502</td>\n",
              "    </tr>\n",
              "    <tr>\n",
              "      <th>1</th>\n",
              "      <td>1901</td>\n",
              "      <td>0.393907</td>\n",
              "      <td>-11.644816</td>\n",
              "      <td>-11.644816</td>\n",
              "    </tr>\n",
              "    <tr>\n",
              "      <th>2</th>\n",
              "      <td>1902</td>\n",
              "      <td>0.670503</td>\n",
              "      <td>-10.221973</td>\n",
              "      <td>-10.221973</td>\n",
              "    </tr>\n",
              "    <tr>\n",
              "      <th>3</th>\n",
              "      <td>1903</td>\n",
              "      <td>0.962377</td>\n",
              "      <td>-9.032994</td>\n",
              "      <td>-9.032994</td>\n",
              "    </tr>\n",
              "    <tr>\n",
              "      <th>4</th>\n",
              "      <td>1904</td>\n",
              "      <td>1.265043</td>\n",
              "      <td>-7.991998</td>\n",
              "      <td>-7.991998</td>\n",
              "    </tr>\n",
              "  </tbody>\n",
              "</table>\n",
              "</div>\n",
              "      <button class=\"colab-df-convert\" onclick=\"convertToInteractive('df-82731778-ca91-4987-a04e-e2989cc69a47')\"\n",
              "              title=\"Convert this dataframe to an interactive table.\"\n",
              "              style=\"display:none;\">\n",
              "        \n",
              "  <svg xmlns=\"http://www.w3.org/2000/svg\" height=\"24px\"viewBox=\"0 0 24 24\"\n",
              "       width=\"24px\">\n",
              "    <path d=\"M0 0h24v24H0V0z\" fill=\"none\"/>\n",
              "    <path d=\"M18.56 5.44l.94 2.06.94-2.06 2.06-.94-2.06-.94-.94-2.06-.94 2.06-2.06.94zm-11 1L8.5 8.5l.94-2.06 2.06-.94-2.06-.94L8.5 2.5l-.94 2.06-2.06.94zm10 10l.94 2.06.94-2.06 2.06-.94-2.06-.94-.94-2.06-.94 2.06-2.06.94z\"/><path d=\"M17.41 7.96l-1.37-1.37c-.4-.4-.92-.59-1.43-.59-.52 0-1.04.2-1.43.59L10.3 9.45l-7.72 7.72c-.78.78-.78 2.05 0 2.83L4 21.41c.39.39.9.59 1.41.59.51 0 1.02-.2 1.41-.59l7.78-7.78 2.81-2.81c.8-.78.8-2.07 0-2.86zM5.41 20L4 18.59l7.72-7.72 1.47 1.35L5.41 20z\"/>\n",
              "  </svg>\n",
              "      </button>\n",
              "      \n",
              "  <style>\n",
              "    .colab-df-container {\n",
              "      display:flex;\n",
              "      flex-wrap:wrap;\n",
              "      gap: 12px;\n",
              "    }\n",
              "\n",
              "    .colab-df-convert {\n",
              "      background-color: #E8F0FE;\n",
              "      border: none;\n",
              "      border-radius: 50%;\n",
              "      cursor: pointer;\n",
              "      display: none;\n",
              "      fill: #1967D2;\n",
              "      height: 32px;\n",
              "      padding: 0 0 0 0;\n",
              "      width: 32px;\n",
              "    }\n",
              "\n",
              "    .colab-df-convert:hover {\n",
              "      background-color: #E2EBFA;\n",
              "      box-shadow: 0px 1px 2px rgba(60, 64, 67, 0.3), 0px 1px 3px 1px rgba(60, 64, 67, 0.15);\n",
              "      fill: #174EA6;\n",
              "    }\n",
              "\n",
              "    [theme=dark] .colab-df-convert {\n",
              "      background-color: #3B4455;\n",
              "      fill: #D2E3FC;\n",
              "    }\n",
              "\n",
              "    [theme=dark] .colab-df-convert:hover {\n",
              "      background-color: #434B5C;\n",
              "      box-shadow: 0px 1px 3px 1px rgba(0, 0, 0, 0.15);\n",
              "      filter: drop-shadow(0px 1px 2px rgba(0, 0, 0, 0.3));\n",
              "      fill: #FFFFFF;\n",
              "    }\n",
              "  </style>\n",
              "\n",
              "      <script>\n",
              "        const buttonEl =\n",
              "          document.querySelector('#df-82731778-ca91-4987-a04e-e2989cc69a47 button.colab-df-convert');\n",
              "        buttonEl.style.display =\n",
              "          google.colab.kernel.accessAllowed ? 'block' : 'none';\n",
              "\n",
              "        async function convertToInteractive(key) {\n",
              "          const element = document.querySelector('#df-82731778-ca91-4987-a04e-e2989cc69a47');\n",
              "          const dataTable =\n",
              "            await google.colab.kernel.invokeFunction('convertToInteractive',\n",
              "                                                     [key], {});\n",
              "          if (!dataTable) return;\n",
              "\n",
              "          const docLinkHtml = 'Like what you see? Visit the ' +\n",
              "            '<a target=\"_blank\" href=https://colab.research.google.com/notebooks/data_table.ipynb>data table notebook</a>'\n",
              "            + ' to learn more about interactive tables.';\n",
              "          element.innerHTML = '';\n",
              "          dataTable['output_type'] = 'display_data';\n",
              "          await google.colab.output.renderOutput(dataTable, element);\n",
              "          const docLink = document.createElement('div');\n",
              "          docLink.innerHTML = docLinkHtml;\n",
              "          element.appendChild(docLink);\n",
              "        }\n",
              "      </script>\n",
              "    </div>\n",
              "  </div>\n",
              "  "
            ]
          },
          "metadata": {},
          "execution_count": 90
        }
      ]
    },
    {
      "cell_type": "code",
      "source": [
        "ax = df.plot.line(\"year\") # x-axis"
      ],
      "metadata": {
        "colab": {
          "base_uri": "https://localhost:8080/",
          "height": 283
        },
        "id": "N-hhQaX5JDb_",
        "outputId": "9c19ed04-6d87-44d6-e592-7c47f84777cd"
      },
      "execution_count": 91,
      "outputs": [
        {
          "output_type": "display_data",
          "data": {
            "text/plain": [
              "<Figure size 432x288 with 1 Axes>"
            ],
            "image/png": "[encoded data removed]"
          },
          "metadata": {
            "needs_background": "light"
          }
        }
      ]
    },
    {
      "cell_type": "markdown",
      "source": [
        "NEP = NBP due to having no disturbances in the simulation"
      ],
      "metadata": {
        "id": "rNGtOfQwV596"
      }
    },
    {
      "cell_type": "code",
      "source": [
        "query2 = f\"\"\"\n",
        "        SELECT years.year, COALESCE(SUM(i.flux_tc), 0) / 1e6 AS CO2_emissions_mt, COALESCE(SUM(j.flux_tc), 0) / 1e6 AS DOM_emissions_mt, COALESCE(SUM(k.flux_tc), 0) / 1e6 AS Total_emissions_mt, COALESCE(SUM(l.flux_tc), 0) / 1e6 AS Rh_mt\n",
        "        FROM (SELECT DISTINCT year FROM v_age_indicators ORDER BY year) AS years\n",
        "        LEFT JOIN v_stock_change_indicators_density i\n",
        "            ON years.year = i.year\n",
        "        LEFT JOIN v_stock_change_indicators_density j\n",
        "            ON years.year = j.year\n",
        "        LEFT JOIN v_stock_change_indicators_density k\n",
        "            ON years.year = k.year\n",
        "        LEFT JOIN v_stock_change_indicators_density l\n",
        "            ON years.year = l.year\n",
        "        WHERE i.indicator = 'Total CO2 Emissions' and j.indicator = 'Total DOM Emissions' and k.indicator='Total Emissions' and l.indicator='Rh'\n",
        "            AND (years.year BETWEEN 1900 AND 2050)\n",
        "        GROUP BY years.year\n",
        "        ORDER BY years.year\n",
        "        \"\"\""
      ],
      "metadata": {
        "id": "27Hcq-OaLDd3"
      },
      "execution_count": 73,
      "outputs": []
    },
    {
      "cell_type": "code",
      "source": [
        "df2 = pd.read_sql_query(query2, conn)\n",
        "df2.head()"
      ],
      "metadata": {
        "colab": {
          "base_uri": "https://localhost:8080/",
          "height": 206
        },
        "id": "M0cb8SIgQxIa",
        "outputId": "f35c08c9-9480-495e-c8f3-ef429cd4530c"
      },
      "execution_count": 74,
      "outputs": [
        {
          "output_type": "execute_result",
          "data": {
            "text/plain": [
              "   year  CO2_emissions_mt  DOM_emissions_mt  Total_emissions_mt      Rh_mt\n",
              "0  1900         13.608986         13.608986           13.608986  13.608986\n",
              "1  1901         12.038723         12.038723           12.038723  12.038723\n",
              "2  1902         10.892476         10.892476           10.892476  10.892476\n",
              "3  1903          9.995371          9.995371            9.995371   9.995371\n",
              "4  1904          9.257041          9.257041            9.257041   9.257041"
            ],
            "text/html": [
              "\n",
              "  <div id=\"df-e1af2fa4-5a58-422e-bd90-6f4b5e62d4c1\">\n",
              "    <div class=\"colab-df-container\">\n",
              "      <div>\n",
              "<style scoped>\n",
              "    .dataframe tbody tr th:only-of-type {\n",
              "        vertical-align: middle;\n",
              "    }\n",
              "\n",
              "    .dataframe tbody tr th {\n",
              "        vertical-align: top;\n",
              "    }\n",
              "\n",
              "    .dataframe thead th {\n",
              "        text-align: right;\n",
              "    }\n",
              "</style>\n",
              "<table border=\"1\" class=\"dataframe\">\n",
              "  <thead>\n",
              "    <tr style=\"text-align: right;\">\n",
              "      <th></th>\n",
              "      <th>year</th>\n",
              "      <th>CO2_emissions_mt</th>\n",
              "      <th>DOM_emissions_mt</th>\n",
              "      <th>Total_emissions_mt</th>\n",
              "      <th>Rh_mt</th>\n",
              "    </tr>\n",
              "  </thead>\n",
              "  <tbody>\n",
              "    <tr>\n",
              "      <th>0</th>\n",
              "      <td>1900</td>\n",
              "      <td>13.608986</td>\n",
              "      <td>13.608986</td>\n",
              "      <td>13.608986</td>\n",
              "      <td>13.608986</td>\n",
              "    </tr>\n",
              "    <tr>\n",
              "      <th>1</th>\n",
              "      <td>1901</td>\n",
              "      <td>12.038723</td>\n",
              "      <td>12.038723</td>\n",
              "      <td>12.038723</td>\n",
              "      <td>12.038723</td>\n",
              "    </tr>\n",
              "    <tr>\n",
              "      <th>2</th>\n",
              "      <td>1902</td>\n",
              "      <td>10.892476</td>\n",
              "      <td>10.892476</td>\n",
              "      <td>10.892476</td>\n",
              "      <td>10.892476</td>\n",
              "    </tr>\n",
              "    <tr>\n",
              "      <th>3</th>\n",
              "      <td>1903</td>\n",
              "      <td>9.995371</td>\n",
              "      <td>9.995371</td>\n",
              "      <td>9.995371</td>\n",
              "      <td>9.995371</td>\n",
              "    </tr>\n",
              "    <tr>\n",
              "      <th>4</th>\n",
              "      <td>1904</td>\n",
              "      <td>9.257041</td>\n",
              "      <td>9.257041</td>\n",
              "      <td>9.257041</td>\n",
              "      <td>9.257041</td>\n",
              "    </tr>\n",
              "  </tbody>\n",
              "</table>\n",
              "</div>\n",
              "      <button class=\"colab-df-convert\" onclick=\"convertToInteractive('df-e1af2fa4-5a58-422e-bd90-6f4b5e62d4c1')\"\n",
              "              title=\"Convert this dataframe to an interactive table.\"\n",
              "              style=\"display:none;\">\n",
              "        \n",
              "  <svg xmlns=\"http://www.w3.org/2000/svg\" height=\"24px\"viewBox=\"0 0 24 24\"\n",
              "       width=\"24px\">\n",
              "    <path d=\"M0 0h24v24H0V0z\" fill=\"none\"/>\n",
              "    <path d=\"M18.56 5.44l.94 2.06.94-2.06 2.06-.94-2.06-.94-.94-2.06-.94 2.06-2.06.94zm-11 1L8.5 8.5l.94-2.06 2.06-.94-2.06-.94L8.5 2.5l-.94 2.06-2.06.94zm10 10l.94 2.06.94-2.06 2.06-.94-2.06-.94-.94-2.06-.94 2.06-2.06.94z\"/><path d=\"M17.41 7.96l-1.37-1.37c-.4-.4-.92-.59-1.43-.59-.52 0-1.04.2-1.43.59L10.3 9.45l-7.72 7.72c-.78.78-.78 2.05 0 2.83L4 21.41c.39.39.9.59 1.41.59.51 0 1.02-.2 1.41-.59l7.78-7.78 2.81-2.81c.8-.78.8-2.07 0-2.86zM5.41 20L4 18.59l7.72-7.72 1.47 1.35L5.41 20z\"/>\n",
              "  </svg>\n",
              "      </button>\n",
              "      \n",
              "  <style>\n",
              "    .colab-df-container {\n",
              "      display:flex;\n",
              "      flex-wrap:wrap;\n",
              "      gap: 12px;\n",
              "    }\n",
              "\n",
              "    .colab-df-convert {\n",
              "      background-color: #E8F0FE;\n",
              "      border: none;\n",
              "      border-radius: 50%;\n",
              "      cursor: pointer;\n",
              "      display: none;\n",
              "      fill: #1967D2;\n",
              "      height: 32px;\n",
              "      padding: 0 0 0 0;\n",
              "      width: 32px;\n",
              "    }\n",
              "\n",
              "    .colab-df-convert:hover {\n",
              "      background-color: #E2EBFA;\n",
              "      box-shadow: 0px 1px 2px rgba(60, 64, 67, 0.3), 0px 1px 3px 1px rgba(60, 64, 67, 0.15);\n",
              "      fill: #174EA6;\n",
              "    }\n",
              "\n",
              "    [theme=dark] .colab-df-convert {\n",
              "      background-color: #3B4455;\n",
              "      fill: #D2E3FC;\n",
              "    }\n",
              "\n",
              "    [theme=dark] .colab-df-convert:hover {\n",
              "      background-color: #434B5C;\n",
              "      box-shadow: 0px 1px 3px 1px rgba(0, 0, 0, 0.15);\n",
              "      filter: drop-shadow(0px 1px 2px rgba(0, 0, 0, 0.3));\n",
              "      fill: #FFFFFF;\n",
              "    }\n",
              "  </style>\n",
              "\n",
              "      <script>\n",
              "        const buttonEl =\n",
              "          document.querySelector('#df-e1af2fa4-5a58-422e-bd90-6f4b5e62d4c1 button.colab-df-convert');\n",
              "        buttonEl.style.display =\n",
              "          google.colab.kernel.accessAllowed ? 'block' : 'none';\n",
              "\n",
              "        async function convertToInteractive(key) {\n",
              "          const element = document.querySelector('#df-e1af2fa4-5a58-422e-bd90-6f4b5e62d4c1');\n",
              "          const dataTable =\n",
              "            await google.colab.kernel.invokeFunction('convertToInteractive',\n",
              "                                                     [key], {});\n",
              "          if (!dataTable) return;\n",
              "\n",
              "          const docLinkHtml = 'Like what you see? Visit the ' +\n",
              "            '<a target=\"_blank\" href=https://colab.research.google.com/notebooks/data_table.ipynb>data table notebook</a>'\n",
              "            + ' to learn more about interactive tables.';\n",
              "          element.innerHTML = '';\n",
              "          dataTable['output_type'] = 'display_data';\n",
              "          await google.colab.output.renderOutput(dataTable, element);\n",
              "          const docLink = document.createElement('div');\n",
              "          docLink.innerHTML = docLinkHtml;\n",
              "          element.appendChild(docLink);\n",
              "        }\n",
              "      </script>\n",
              "    </div>\n",
              "  </div>\n",
              "  "
            ]
          },
          "metadata": {},
          "execution_count": 74
        }
      ]
    },
    {
      "cell_type": "code",
      "source": [
        "ax = df2.plot.line(\"year\") # x-axis"
      ],
      "metadata": {
        "colab": {
          "base_uri": "https://localhost:8080/",
          "height": 283
        },
        "id": "XmvgeSnoQ0Qm",
        "outputId": "0f7a9c50-aa88-4bc6-fe82-5d4449b95b09"
      },
      "execution_count": 72,
      "outputs": [
        {
          "output_type": "display_data",
          "data": {
            "text/plain": [
              "<Figure size 432x288 with 1 Axes>"
            ],
            "image/png": "[encoded data removed]"
          },
          "metadata": {
            "needs_background": "light"
          }
        }
      ]
    },
    {
      "cell_type": "markdown",
      "source": [
        "NPP - Rh = NEP\n",
        "\n",
        "NEP - DE = NBP"
      ],
      "metadata": {
        "id": "k6DrhWNmWAZE"
      }
    },
    {
      "cell_type": "code",
      "source": [
        "query3 = f\"\"\"\n",
        "        SELECT years.year, COALESCE(SUM(i.flux_tc), 0) / 1e6 AS Deadwood_to_atmosphere_mt, COALESCE(SUM(j.flux_tc), 0) / 1e6 AS Decomposition_releases_mt, COALESCE(SUM(k.flux_tc), 0) / 1e6 AS Soil_to_atmosphere_mt\n",
        "        FROM (SELECT DISTINCT year FROM v_age_indicators ORDER BY year) AS years\n",
        "        LEFT JOIN v_stock_change_indicators_density i\n",
        "            ON years.year = i.year\n",
        "        LEFT JOIN v_stock_change_indicators_density j\n",
        "            ON years.year = j.year\n",
        "        LEFT JOIN v_stock_change_indicators_density k\n",
        "            ON years.year = k.year\n",
        "        WHERE i.indicator = 'Deadwood to Atmosphere' and j.indicator = 'Decomposition Releases' and k.indicator='Soil to Atmosphere' \n",
        "            AND (years.year BETWEEN 1900 AND 2050)\n",
        "        GROUP BY years.year\n",
        "        ORDER BY years.year\n",
        "        \"\"\""
      ],
      "metadata": {
        "id": "YPEiky7DQ23z"
      },
      "execution_count": 75,
      "outputs": []
    },
    {
      "cell_type": "code",
      "source": [
        "df3 = pd.read_sql_query(query3, conn)\n",
        "df3.head()"
      ],
      "metadata": {
        "colab": {
          "base_uri": "https://localhost:8080/",
          "height": 206
        },
        "id": "nuRMMXf_Sj7a",
        "outputId": "438800e5-04af-485b-e5a3-4483e4c15063"
      },
      "execution_count": 76,
      "outputs": [
        {
          "output_type": "execute_result",
          "data": {
            "text/plain": [
              "   year  Deadwood_to_atmosphere_mt  Decomposition_releases_mt  \\\n",
              "0  1900                  11.300871                  13.608986   \n",
              "1  1901                  10.469623                  12.038723   \n",
              "2  1902                   9.684242                  10.892476   \n",
              "3  1903                   8.949051                   9.995371   \n",
              "4  1904                   8.266518                   9.257041   \n",
              "\n",
              "   Soil_to_atmosphere_mt  \n",
              "0               1.954525  \n",
              "1               1.245669  \n",
              "2               0.890110  \n",
              "3               0.714069  \n",
              "4               0.630803  "
            ],
            "text/html": [
              "\n",
              "  <div id=\"df-085bd462-7e32-4fae-a54f-1aaf6af64baf\">\n",
              "    <div class=\"colab-df-container\">\n",
              "      <div>\n",
              "<style scoped>\n",
              "    .dataframe tbody tr th:only-of-type {\n",
              "        vertical-align: middle;\n",
              "    }\n",
              "\n",
              "    .dataframe tbody tr th {\n",
              "        vertical-align: top;\n",
              "    }\n",
              "\n",
              "    .dataframe thead th {\n",
              "        text-align: right;\n",
              "    }\n",
              "</style>\n",
              "<table border=\"1\" class=\"dataframe\">\n",
              "  <thead>\n",
              "    <tr style=\"text-align: right;\">\n",
              "      <th></th>\n",
              "      <th>year</th>\n",
              "      <th>Deadwood_to_atmosphere_mt</th>\n",
              "      <th>Decomposition_releases_mt</th>\n",
              "      <th>Soil_to_atmosphere_mt</th>\n",
              "    </tr>\n",
              "  </thead>\n",
              "  <tbody>\n",
              "    <tr>\n",
              "      <th>0</th>\n",
              "      <td>1900</td>\n",
              "      <td>11.300871</td>\n",
              "      <td>13.608986</td>\n",
              "      <td>1.954525</td>\n",
              "    </tr>\n",
              "    <tr>\n",
              "      <th>1</th>\n",
              "      <td>1901</td>\n",
              "      <td>10.469623</td>\n",
              "      <td>12.038723</td>\n",
              "      <td>1.245669</td>\n",
              "    </tr>\n",
              "    <tr>\n",
              "      <th>2</th>\n",
              "      <td>1902</td>\n",
              "      <td>9.684242</td>\n",
              "      <td>10.892476</td>\n",
              "      <td>0.890110</td>\n",
              "    </tr>\n",
              "    <tr>\n",
              "      <th>3</th>\n",
              "      <td>1903</td>\n",
              "      <td>8.949051</td>\n",
              "      <td>9.995371</td>\n",
              "      <td>0.714069</td>\n",
              "    </tr>\n",
              "    <tr>\n",
              "      <th>4</th>\n",
              "      <td>1904</td>\n",
              "      <td>8.266518</td>\n",
              "      <td>9.257041</td>\n",
              "      <td>0.630803</td>\n",
              "    </tr>\n",
              "  </tbody>\n",
              "</table>\n",
              "</div>\n",
              "      <button class=\"colab-df-convert\" onclick=\"convertToInteractive('df-085bd462-7e32-4fae-a54f-1aaf6af64baf')\"\n",
              "              title=\"Convert this dataframe to an interactive table.\"\n",
              "              style=\"display:none;\">\n",
              "        \n",
              "  <svg xmlns=\"http://www.w3.org/2000/svg\" height=\"24px\"viewBox=\"0 0 24 24\"\n",
              "       width=\"24px\">\n",
              "    <path d=\"M0 0h24v24H0V0z\" fill=\"none\"/>\n",
              "    <path d=\"M18.56 5.44l.94 2.06.94-2.06 2.06-.94-2.06-.94-.94-2.06-.94 2.06-2.06.94zm-11 1L8.5 8.5l.94-2.06 2.06-.94-2.06-.94L8.5 2.5l-.94 2.06-2.06.94zm10 10l.94 2.06.94-2.06 2.06-.94-2.06-.94-.94-2.06-.94 2.06-2.06.94z\"/><path d=\"M17.41 7.96l-1.37-1.37c-.4-.4-.92-.59-1.43-.59-.52 0-1.04.2-1.43.59L10.3 9.45l-7.72 7.72c-.78.78-.78 2.05 0 2.83L4 21.41c.39.39.9.59 1.41.59.51 0 1.02-.2 1.41-.59l7.78-7.78 2.81-2.81c.8-.78.8-2.07 0-2.86zM5.41 20L4 18.59l7.72-7.72 1.47 1.35L5.41 20z\"/>\n",
              "  </svg>\n",
              "      </button>\n",
              "      \n",
              "  <style>\n",
              "    .colab-df-container {\n",
              "      display:flex;\n",
              "      flex-wrap:wrap;\n",
              "      gap: 12px;\n",
              "    }\n",
              "\n",
              "    .colab-df-convert {\n",
              "      background-color: #E8F0FE;\n",
              "      border: none;\n",
              "      border-radius: 50%;\n",
              "      cursor: pointer;\n",
              "      display: none;\n",
              "      fill: #1967D2;\n",
              "      height: 32px;\n",
              "      padding: 0 0 0 0;\n",
              "      width: 32px;\n",
              "    }\n",
              "\n",
              "    .colab-df-convert:hover {\n",
              "      background-color: #E2EBFA;\n",
              "      box-shadow: 0px 1px 2px rgba(60, 64, 67, 0.3), 0px 1px 3px 1px rgba(60, 64, 67, 0.15);\n",
              "      fill: #174EA6;\n",
              "    }\n",
              "\n",
              "    [theme=dark] .colab-df-convert {\n",
              "      background-color: #3B4455;\n",
              "      fill: #D2E3FC;\n",
              "    }\n",
              "\n",
              "    [theme=dark] .colab-df-convert:hover {\n",
              "      background-color: #434B5C;\n",
              "      box-shadow: 0px 1px 3px 1px rgba(0, 0, 0, 0.15);\n",
              "      filter: drop-shadow(0px 1px 2px rgba(0, 0, 0, 0.3));\n",
              "      fill: #FFFFFF;\n",
              "    }\n",
              "  </style>\n",
              "\n",
              "      <script>\n",
              "        const buttonEl =\n",
              "          document.querySelector('#df-085bd462-7e32-4fae-a54f-1aaf6af64baf button.colab-df-convert');\n",
              "        buttonEl.style.display =\n",
              "          google.colab.kernel.accessAllowed ? 'block' : 'none';\n",
              "\n",
              "        async function convertToInteractive(key) {\n",
              "          const element = document.querySelector('#df-085bd462-7e32-4fae-a54f-1aaf6af64baf');\n",
              "          const dataTable =\n",
              "            await google.colab.kernel.invokeFunction('convertToInteractive',\n",
              "                                                     [key], {});\n",
              "          if (!dataTable) return;\n",
              "\n",
              "          const docLinkHtml = 'Like what you see? Visit the ' +\n",
              "            '<a target=\"_blank\" href=https://colab.research.google.com/notebooks/data_table.ipynb>data table notebook</a>'\n",
              "            + ' to learn more about interactive tables.';\n",
              "          element.innerHTML = '';\n",
              "          dataTable['output_type'] = 'display_data';\n",
              "          await google.colab.output.renderOutput(dataTable, element);\n",
              "          const docLink = document.createElement('div');\n",
              "          docLink.innerHTML = docLinkHtml;\n",
              "          element.appendChild(docLink);\n",
              "        }\n",
              "      </script>\n",
              "    </div>\n",
              "  </div>\n",
              "  "
            ]
          },
          "metadata": {},
          "execution_count": 76
        }
      ]
    },
    {
      "cell_type": "code",
      "source": [
        "ax = df3.plot.line(\"year\") # x-axis"
      ],
      "metadata": {
        "colab": {
          "base_uri": "https://localhost:8080/",
          "height": 279
        },
        "id": "DBxnh6kmS9y7",
        "outputId": "6918114f-312b-42ef-d5f1-307310c37909"
      },
      "execution_count": 77,
      "outputs": [
        {
          "output_type": "display_data",
          "data": {
            "text/plain": [
              "<Figure size 432x288 with 1 Axes>"
            ],
            "image/png": "[encoded data removed]"
          },
          "metadata": {
            "needs_background": "light"
          }
        }
      ]
    },
    {
      "cell_type": "code",
      "source": [
        "query4 = f\"\"\"\n",
        "        SELECT years.year, COALESCE(SUM(i.flux_tc), 0) / 1e6 AS Delta_total_biomass_mt, COALESCE(SUM(j.flux_tc), 0) / 1e6 AS Delta_total_DOM_mt, COALESCE(SUM(k.flux_tc), 0) / 1e6 AS Delta_total_ecosystem_mt\n",
        "        FROM (SELECT DISTINCT year FROM v_age_indicators ORDER BY year) AS years\n",
        "        LEFT JOIN v_stock_change_indicators_density i\n",
        "            ON years.year = i.year\n",
        "        LEFT JOIN v_stock_change_indicators_density j\n",
        "            ON years.year = j.year\n",
        "        LEFT JOIN v_stock_change_indicators_density k\n",
        "            ON years.year = k.year\n",
        "        WHERE i.indicator = 'Delta Total Biomass' and j.indicator = 'Delta Total DOM' and k.indicator='Delta Total Ecosystem' \n",
        "            AND (years.year BETWEEN 1900 AND 2050)\n",
        "        GROUP BY years.year\n",
        "        ORDER BY years.year\n",
        "        \"\"\""
      ],
      "metadata": {
        "id": "ymQvK9mVTAqq"
      },
      "execution_count": 78,
      "outputs": []
    },
    {
      "cell_type": "code",
      "source": [
        "df4 = pd.read_sql_query(query4, conn)\n",
        "df4.head()"
      ],
      "metadata": {
        "colab": {
          "base_uri": "https://localhost:8080/",
          "height": 206
        },
        "id": "LjG4dhRrUF8r",
        "outputId": "8c806bcd-e9d8-478c-f371-aa7e952e883c"
      },
      "execution_count": 79,
      "outputs": [
        {
          "output_type": "execute_result",
          "data": {
            "text/plain": [
              "   year  Delta_total_biomass_mt  Delta_total_DOM_mt  Delta_total_ecosystem_mt\n",
              "0  1900                0.125671          -13.603173                -13.477502\n",
              "1  1901                0.365453          -12.010269                -11.644816\n",
              "2  1902                0.597861          -10.819834                -10.221973\n",
              "3  1903                0.824975           -9.857969                 -9.032994\n",
              "4  1904                1.046987           -9.038985                 -7.991998"
            ],
            "text/html": [
              "\n",
              "  <div id=\"df-491c28d4-aeec-4c3e-bca1-33550ac0e6e3\">\n",
              "    <div class=\"colab-df-container\">\n",
              "      <div>\n",
              "<style scoped>\n",
              "    .dataframe tbody tr th:only-of-type {\n",
              "        vertical-align: middle;\n",
              "    }\n",
              "\n",
              "    .dataframe tbody tr th {\n",
              "        vertical-align: top;\n",
              "    }\n",
              "\n",
              "    .dataframe thead th {\n",
              "        text-align: right;\n",
              "    }\n",
              "</style>\n",
              "<table border=\"1\" class=\"dataframe\">\n",
              "  <thead>\n",
              "    <tr style=\"text-align: right;\">\n",
              "      <th></th>\n",
              "      <th>year</th>\n",
              "      <th>Delta_total_biomass_mt</th>\n",
              "      <th>Delta_total_DOM_mt</th>\n",
              "      <th>Delta_total_ecosystem_mt</th>\n",
              "    </tr>\n",
              "  </thead>\n",
              "  <tbody>\n",
              "    <tr>\n",
              "      <th>0</th>\n",
              "      <td>1900</td>\n",
              "      <td>0.125671</td>\n",
              "      <td>-13.603173</td>\n",
              "      <td>-13.477502</td>\n",
              "    </tr>\n",
              "    <tr>\n",
              "      <th>1</th>\n",
              "      <td>1901</td>\n",
              "      <td>0.365453</td>\n",
              "      <td>-12.010269</td>\n",
              "      <td>-11.644816</td>\n",
              "    </tr>\n",
              "    <tr>\n",
              "      <th>2</th>\n",
              "      <td>1902</td>\n",
              "      <td>0.597861</td>\n",
              "      <td>-10.819834</td>\n",
              "      <td>-10.221973</td>\n",
              "    </tr>\n",
              "    <tr>\n",
              "      <th>3</th>\n",
              "      <td>1903</td>\n",
              "      <td>0.824975</td>\n",
              "      <td>-9.857969</td>\n",
              "      <td>-9.032994</td>\n",
              "    </tr>\n",
              "    <tr>\n",
              "      <th>4</th>\n",
              "      <td>1904</td>\n",
              "      <td>1.046987</td>\n",
              "      <td>-9.038985</td>\n",
              "      <td>-7.991998</td>\n",
              "    </tr>\n",
              "  </tbody>\n",
              "</table>\n",
              "</div>\n",
              "      <button class=\"colab-df-convert\" onclick=\"convertToInteractive('df-491c28d4-aeec-4c3e-bca1-33550ac0e6e3')\"\n",
              "              title=\"Convert this dataframe to an interactive table.\"\n",
              "              style=\"display:none;\">\n",
              "        \n",
              "  <svg xmlns=\"http://www.w3.org/2000/svg\" height=\"24px\"viewBox=\"0 0 24 24\"\n",
              "       width=\"24px\">\n",
              "    <path d=\"M0 0h24v24H0V0z\" fill=\"none\"/>\n",
              "    <path d=\"M18.56 5.44l.94 2.06.94-2.06 2.06-.94-2.06-.94-.94-2.06-.94 2.06-2.06.94zm-11 1L8.5 8.5l.94-2.06 2.06-.94-2.06-.94L8.5 2.5l-.94 2.06-2.06.94zm10 10l.94 2.06.94-2.06 2.06-.94-2.06-.94-.94-2.06-.94 2.06-2.06.94z\"/><path d=\"M17.41 7.96l-1.37-1.37c-.4-.4-.92-.59-1.43-.59-.52 0-1.04.2-1.43.59L10.3 9.45l-7.72 7.72c-.78.78-.78 2.05 0 2.83L4 21.41c.39.39.9.59 1.41.59.51 0 1.02-.2 1.41-.59l7.78-7.78 2.81-2.81c.8-.78.8-2.07 0-2.86zM5.41 20L4 18.59l7.72-7.72 1.47 1.35L5.41 20z\"/>\n",
              "  </svg>\n",
              "      </button>\n",
              "      \n",
              "  <style>\n",
              "    .colab-df-container {\n",
              "      display:flex;\n",
              "      flex-wrap:wrap;\n",
              "      gap: 12px;\n",
              "    }\n",
              "\n",
              "    .colab-df-convert {\n",
              "      background-color: #E8F0FE;\n",
              "      border: none;\n",
              "      border-radius: 50%;\n",
              "      cursor: pointer;\n",
              "      display: none;\n",
              "      fill: #1967D2;\n",
              "      height: 32px;\n",
              "      padding: 0 0 0 0;\n",
              "      width: 32px;\n",
              "    }\n",
              "\n",
              "    .colab-df-convert:hover {\n",
              "      background-color: #E2EBFA;\n",
              "      box-shadow: 0px 1px 2px rgba(60, 64, 67, 0.3), 0px 1px 3px 1px rgba(60, 64, 67, 0.15);\n",
              "      fill: #174EA6;\n",
              "    }\n",
              "\n",
              "    [theme=dark] .colab-df-convert {\n",
              "      background-color: #3B4455;\n",
              "      fill: #D2E3FC;\n",
              "    }\n",
              "\n",
              "    [theme=dark] .colab-df-convert:hover {\n",
              "      background-color: #434B5C;\n",
              "      box-shadow: 0px 1px 3px 1px rgba(0, 0, 0, 0.15);\n",
              "      filter: drop-shadow(0px 1px 2px rgba(0, 0, 0, 0.3));\n",
              "      fill: #FFFFFF;\n",
              "    }\n",
              "  </style>\n",
              "\n",
              "      <script>\n",
              "        const buttonEl =\n",
              "          document.querySelector('#df-491c28d4-aeec-4c3e-bca1-33550ac0e6e3 button.colab-df-convert');\n",
              "        buttonEl.style.display =\n",
              "          google.colab.kernel.accessAllowed ? 'block' : 'none';\n",
              "\n",
              "        async function convertToInteractive(key) {\n",
              "          const element = document.querySelector('#df-491c28d4-aeec-4c3e-bca1-33550ac0e6e3');\n",
              "          const dataTable =\n",
              "            await google.colab.kernel.invokeFunction('convertToInteractive',\n",
              "                                                     [key], {});\n",
              "          if (!dataTable) return;\n",
              "\n",
              "          const docLinkHtml = 'Like what you see? Visit the ' +\n",
              "            '<a target=\"_blank\" href=https://colab.research.google.com/notebooks/data_table.ipynb>data table notebook</a>'\n",
              "            + ' to learn more about interactive tables.';\n",
              "          element.innerHTML = '';\n",
              "          dataTable['output_type'] = 'display_data';\n",
              "          await google.colab.output.renderOutput(dataTable, element);\n",
              "          const docLink = document.createElement('div');\n",
              "          docLink.innerHTML = docLinkHtml;\n",
              "          element.appendChild(docLink);\n",
              "        }\n",
              "      </script>\n",
              "    </div>\n",
              "  </div>\n",
              "  "
            ]
          },
          "metadata": {},
          "execution_count": 79
        }
      ]
    },
    {
      "cell_type": "code",
      "source": [
        "ax = df4.plot.line(\"year\") # x-axis"
      ],
      "metadata": {
        "colab": {
          "base_uri": "https://localhost:8080/",
          "height": 279
        },
        "id": "J8VabBKaUIqL",
        "outputId": "9bd763eb-d51d-4622-e77b-b34b8a4fa094"
      },
      "execution_count": 80,
      "outputs": [
        {
          "output_type": "display_data",
          "data": {
            "text/plain": [
              "<Figure size 432x288 with 1 Axes>"
            ],
            "image/png": "[encoded data removed]"
          },
          "metadata": {
            "needs_background": "light"
          }
        }
      ]
    },
    {
      "cell_type": "markdown",
      "source": [
        "Delta total ecosystem here is equal to NBP from graph 1"
      ],
      "metadata": {
        "id": "AjGogJQrWPmC"
      }
    },
    {
      "cell_type": "code",
      "source": [
        "query5 = f\"\"\"\n",
        "        SELECT years.year, COALESCE(SUM(i.flux_tc), 0) / 1e6 AS Total_detrital_transfers_mt, COALESCE(SUM(j.flux_tc), 0) / 1e6 AS Total_litterfall_mt, COALESCE(SUM(k.flux_tc), 0) / 1e6 AS Total_mortality_mt\n",
        "        FROM (SELECT DISTINCT year FROM v_age_indicators ORDER BY year) AS years\n",
        "        LEFT JOIN v_stock_change_indicators_density i\n",
        "            ON years.year = i.year\n",
        "        LEFT JOIN v_stock_change_indicators_density j\n",
        "            ON years.year = j.year\n",
        "        LEFT JOIN v_stock_change_indicators_density k\n",
        "            ON years.year = k.year\n",
        "        WHERE i.indicator = 'Total Detrital Transfers' and j.indicator = 'Total Litterfall' and k.indicator='Total Mortality' \n",
        "            AND (years.year BETWEEN 1900 AND 2050)\n",
        "        GROUP BY years.year\n",
        "        ORDER BY years.year\n",
        "        \"\"\""
      ],
      "metadata": {
        "id": "7RlWkrtAUL1A"
      },
      "execution_count": 86,
      "outputs": []
    },
    {
      "cell_type": "code",
      "source": [
        "df5 = pd.read_sql_query(query5, conn)\n",
        "df5.head()"
      ],
      "metadata": {
        "colab": {
          "base_uri": "https://localhost:8080/",
          "height": 206
        },
        "id": "ro_dCG-oVkKJ",
        "outputId": "596069a1-75ed-4fea-a3d6-9b41e7ec85b5"
      },
      "execution_count": 87,
      "outputs": [
        {
          "output_type": "execute_result",
          "data": {
            "text/plain": [
              "   year  Total_detrital_transfers_mt  Total_litterfall_mt  Total_mortality_mt\n",
              "0  1900                     0.005813             0.005812        6.452322e-07\n",
              "1  1901                     0.028455             0.028448        7.042998e-06\n",
              "2  1902                     0.072642             0.072612        3.038052e-05\n",
              "3  1903                     0.137402             0.137316        8.543524e-05\n",
              "4  1904                     0.218056             0.212344        5.712028e-03"
            ],
            "text/html": [
              "\n",
              "  <div id=\"df-01463fa5-5a3e-44d0-b608-d8776d5448d7\">\n",
              "    <div class=\"colab-df-container\">\n",
              "      <div>\n",
              "<style scoped>\n",
              "    .dataframe tbody tr th:only-of-type {\n",
              "        vertical-align: middle;\n",
              "    }\n",
              "\n",
              "    .dataframe tbody tr th {\n",
              "        vertical-align: top;\n",
              "    }\n",
              "\n",
              "    .dataframe thead th {\n",
              "        text-align: right;\n",
              "    }\n",
              "</style>\n",
              "<table border=\"1\" class=\"dataframe\">\n",
              "  <thead>\n",
              "    <tr style=\"text-align: right;\">\n",
              "      <th></th>\n",
              "      <th>year</th>\n",
              "      <th>Total_detrital_transfers_mt</th>\n",
              "      <th>Total_litterfall_mt</th>\n",
              "      <th>Total_mortality_mt</th>\n",
              "    </tr>\n",
              "  </thead>\n",
              "  <tbody>\n",
              "    <tr>\n",
              "      <th>0</th>\n",
              "      <td>1900</td>\n",
              "      <td>0.005813</td>\n",
              "      <td>0.005812</td>\n",
              "      <td>6.452322e-07</td>\n",
              "    </tr>\n",
              "    <tr>\n",
              "      <th>1</th>\n",
              "      <td>1901</td>\n",
              "      <td>0.028455</td>\n",
              "      <td>0.028448</td>\n",
              "      <td>7.042998e-06</td>\n",
              "    </tr>\n",
              "    <tr>\n",
              "      <th>2</th>\n",
              "      <td>1902</td>\n",
              "      <td>0.072642</td>\n",
              "      <td>0.072612</td>\n",
              "      <td>3.038052e-05</td>\n",
              "    </tr>\n",
              "    <tr>\n",
              "      <th>3</th>\n",
              "      <td>1903</td>\n",
              "      <td>0.137402</td>\n",
              "      <td>0.137316</td>\n",
              "      <td>8.543524e-05</td>\n",
              "    </tr>\n",
              "    <tr>\n",
              "      <th>4</th>\n",
              "      <td>1904</td>\n",
              "      <td>0.218056</td>\n",
              "      <td>0.212344</td>\n",
              "      <td>5.712028e-03</td>\n",
              "    </tr>\n",
              "  </tbody>\n",
              "</table>\n",
              "</div>\n",
              "      <button class=\"colab-df-convert\" onclick=\"convertToInteractive('df-01463fa5-5a3e-44d0-b608-d8776d5448d7')\"\n",
              "              title=\"Convert this dataframe to an interactive table.\"\n",
              "              style=\"display:none;\">\n",
              "        \n",
              "  <svg xmlns=\"http://www.w3.org/2000/svg\" height=\"24px\"viewBox=\"0 0 24 24\"\n",
              "       width=\"24px\">\n",
              "    <path d=\"M0 0h24v24H0V0z\" fill=\"none\"/>\n",
              "    <path d=\"M18.56 5.44l.94 2.06.94-2.06 2.06-.94-2.06-.94-.94-2.06-.94 2.06-2.06.94zm-11 1L8.5 8.5l.94-2.06 2.06-.94-2.06-.94L8.5 2.5l-.94 2.06-2.06.94zm10 10l.94 2.06.94-2.06 2.06-.94-2.06-.94-.94-2.06-.94 2.06-2.06.94z\"/><path d=\"M17.41 7.96l-1.37-1.37c-.4-.4-.92-.59-1.43-.59-.52 0-1.04.2-1.43.59L10.3 9.45l-7.72 7.72c-.78.78-.78 2.05 0 2.83L4 21.41c.39.39.9.59 1.41.59.51 0 1.02-.2 1.41-.59l7.78-7.78 2.81-2.81c.8-.78.8-2.07 0-2.86zM5.41 20L4 18.59l7.72-7.72 1.47 1.35L5.41 20z\"/>\n",
              "  </svg>\n",
              "      </button>\n",
              "      \n",
              "  <style>\n",
              "    .colab-df-container {\n",
              "      display:flex;\n",
              "      flex-wrap:wrap;\n",
              "      gap: 12px;\n",
              "    }\n",
              "\n",
              "    .colab-df-convert {\n",
              "      background-color: #E8F0FE;\n",
              "      border: none;\n",
              "      border-radius: 50%;\n",
              "      cursor: pointer;\n",
              "      display: none;\n",
              "      fill: #1967D2;\n",
              "      height: 32px;\n",
              "      padding: 0 0 0 0;\n",
              "      width: 32px;\n",
              "    }\n",
              "\n",
              "    .colab-df-convert:hover {\n",
              "      background-color: #E2EBFA;\n",
              "      box-shadow: 0px 1px 2px rgba(60, 64, 67, 0.3), 0px 1px 3px 1px rgba(60, 64, 67, 0.15);\n",
              "      fill: #174EA6;\n",
              "    }\n",
              "\n",
              "    [theme=dark] .colab-df-convert {\n",
              "      background-color: #3B4455;\n",
              "      fill: #D2E3FC;\n",
              "    }\n",
              "\n",
              "    [theme=dark] .colab-df-convert:hover {\n",
              "      background-color: #434B5C;\n",
              "      box-shadow: 0px 1px 3px 1px rgba(0, 0, 0, 0.15);\n",
              "      filter: drop-shadow(0px 1px 2px rgba(0, 0, 0, 0.3));\n",
              "      fill: #FFFFFF;\n",
              "    }\n",
              "  </style>\n",
              "\n",
              "      <script>\n",
              "        const buttonEl =\n",
              "          document.querySelector('#df-01463fa5-5a3e-44d0-b608-d8776d5448d7 button.colab-df-convert');\n",
              "        buttonEl.style.display =\n",
              "          google.colab.kernel.accessAllowed ? 'block' : 'none';\n",
              "\n",
              "        async function convertToInteractive(key) {\n",
              "          const element = document.querySelector('#df-01463fa5-5a3e-44d0-b608-d8776d5448d7');\n",
              "          const dataTable =\n",
              "            await google.colab.kernel.invokeFunction('convertToInteractive',\n",
              "                                                     [key], {});\n",
              "          if (!dataTable) return;\n",
              "\n",
              "          const docLinkHtml = 'Like what you see? Visit the ' +\n",
              "            '<a target=\"_blank\" href=https://colab.research.google.com/notebooks/data_table.ipynb>data table notebook</a>'\n",
              "            + ' to learn more about interactive tables.';\n",
              "          element.innerHTML = '';\n",
              "          dataTable['output_type'] = 'display_data';\n",
              "          await google.colab.output.renderOutput(dataTable, element);\n",
              "          const docLink = document.createElement('div');\n",
              "          docLink.innerHTML = docLinkHtml;\n",
              "          element.appendChild(docLink);\n",
              "        }\n",
              "      </script>\n",
              "    </div>\n",
              "  </div>\n",
              "  "
            ]
          },
          "metadata": {},
          "execution_count": 87
        }
      ]
    },
    {
      "cell_type": "code",
      "source": [
        "ax = df5.plot.line(\"year\") # x-axis"
      ],
      "metadata": {
        "colab": {
          "base_uri": "https://localhost:8080/",
          "height": 279
        },
        "id": "oJELPXU1Vkb3",
        "outputId": "5858e86a-b733-41bf-b046-c1213b95e29d"
      },
      "execution_count": 88,
      "outputs": [
        {
          "output_type": "display_data",
          "data": {
            "text/plain": [
              "<Figure size 432x288 with 1 Axes>"
            ],
            "image/png": "[encoded data removed]"
          },
          "metadata": {
            "needs_background": "light"
          }
        }
      ]
    },
    {
      "cell_type": "code",
      "source": [
        "query6 = f\"\"\"\n",
        "        SELECT years.year, COALESCE(SUM(i.pool_tc), 0) / 1e6 AS total_biomass_mt\n",
        "        FROM (SELECT DISTINCT year FROM v_age_indicators ORDER BY year) AS years\n",
        "        LEFT JOIN v_pool_indicators i\n",
        "            ON years.year = i.year\n",
        "        WHERE i.indicator = 'Total Biomass'\n",
        "            AND (years.year BETWEEN 1900 AND 2050)\n",
        "        GROUP BY years.year\n",
        "        ORDER BY years.year\n",
        "        \"\"\"\n",
        "\n",
        "df6 = pd.read_sql_query(query6, conn)\n",
        "ax = df6.plot.line(\"year\") # x-axis"
      ],
      "metadata": {
        "colab": {
          "base_uri": "https://localhost:8080/",
          "height": 279
        },
        "id": "vT9jvjDNVrRC",
        "outputId": "d5a3c5ac-0eb8-40a9-9947-29b8fa0301d9"
      },
      "execution_count": 94,
      "outputs": [
        {
          "output_type": "display_data",
          "data": {
            "text/plain": [
              "<Figure size 432x288 with 1 Axes>"
            ],
            "image/png": "[encoded data removed]"
          },
          "metadata": {
            "needs_background": "light"
          }
        }
      ]
    },
    {
      "cell_type": "code",
      "source": [],
      "metadata": {
        "id": "jparSOqhWeIc"
      },
      "execution_count": null,
      "outputs": []
    }
  ]
}